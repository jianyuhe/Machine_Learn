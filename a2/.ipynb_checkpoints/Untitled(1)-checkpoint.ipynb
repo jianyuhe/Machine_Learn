{
 "cells": [
  {
   "cell_type": "code",
   "execution_count": 3,
   "metadata": {},
   "outputs": [
    {
     "data": {
      "text/html": [
       "<div>\n",
       "<style scoped>\n",
       "    .dataframe tbody tr th:only-of-type {\n",
       "        vertical-align: middle;\n",
       "    }\n",
       "\n",
       "    .dataframe tbody tr th {\n",
       "        vertical-align: top;\n",
       "    }\n",
       "\n",
       "    .dataframe thead th {\n",
       "        text-align: right;\n",
       "    }\n",
       "</style>\n",
       "<table border=\"1\" class=\"dataframe\">\n",
       "  <thead>\n",
       "    <tr style=\"text-align: right;\">\n",
       "      <th></th>\n",
       "      <th>age</th>\n",
       "      <th>job</th>\n",
       "      <th>marital</th>\n",
       "      <th>education</th>\n",
       "      <th>default</th>\n",
       "      <th>balance</th>\n",
       "      <th>housing</th>\n",
       "      <th>loan</th>\n",
       "      <th>contact</th>\n",
       "      <th>day</th>\n",
       "      <th>month</th>\n",
       "      <th>campaign</th>\n",
       "      <th>pdays</th>\n",
       "      <th>previous</th>\n",
       "      <th>poutcome</th>\n",
       "      <th>target</th>\n",
       "    </tr>\n",
       "  </thead>\n",
       "  <tbody>\n",
       "    <tr>\n",
       "      <td>0</td>\n",
       "      <td>59</td>\n",
       "      <td>JobCat11</td>\n",
       "      <td>married</td>\n",
       "      <td>secondary</td>\n",
       "      <td>no</td>\n",
       "      <td>2343</td>\n",
       "      <td>yes</td>\n",
       "      <td>no</td>\n",
       "      <td>unknown</td>\n",
       "      <td>5</td>\n",
       "      <td>may</td>\n",
       "      <td>1</td>\n",
       "      <td>-1</td>\n",
       "      <td>0</td>\n",
       "      <td>unknown</td>\n",
       "      <td>yes</td>\n",
       "    </tr>\n",
       "    <tr>\n",
       "      <td>1</td>\n",
       "      <td>41</td>\n",
       "      <td>JobCat9</td>\n",
       "      <td>married</td>\n",
       "      <td>secondary</td>\n",
       "      <td>no</td>\n",
       "      <td>1270</td>\n",
       "      <td>yes</td>\n",
       "      <td>no</td>\n",
       "      <td>unknown</td>\n",
       "      <td>5</td>\n",
       "      <td>may</td>\n",
       "      <td>1</td>\n",
       "      <td>-1</td>\n",
       "      <td>0</td>\n",
       "      <td>unknown</td>\n",
       "      <td>yes</td>\n",
       "    </tr>\n",
       "    <tr>\n",
       "      <td>2</td>\n",
       "      <td>55</td>\n",
       "      <td>JobCat7</td>\n",
       "      <td>married</td>\n",
       "      <td>secondary</td>\n",
       "      <td>no</td>\n",
       "      <td>2476</td>\n",
       "      <td>yes</td>\n",
       "      <td>no</td>\n",
       "      <td>unknown</td>\n",
       "      <td>5</td>\n",
       "      <td>may</td>\n",
       "      <td>1</td>\n",
       "      <td>-1</td>\n",
       "      <td>0</td>\n",
       "      <td>unknown</td>\n",
       "      <td>yes</td>\n",
       "    </tr>\n",
       "    <tr>\n",
       "      <td>3</td>\n",
       "      <td>56</td>\n",
       "      <td>JobCat6</td>\n",
       "      <td>married</td>\n",
       "      <td>tertiary</td>\n",
       "      <td>no</td>\n",
       "      <td>830</td>\n",
       "      <td>yes</td>\n",
       "      <td>yes</td>\n",
       "      <td>unknown</td>\n",
       "      <td>6</td>\n",
       "      <td>may</td>\n",
       "      <td>1</td>\n",
       "      <td>-1</td>\n",
       "      <td>0</td>\n",
       "      <td>unknown</td>\n",
       "      <td>yes</td>\n",
       "    </tr>\n",
       "    <tr>\n",
       "      <td>4</td>\n",
       "      <td>60</td>\n",
       "      <td>JobCat2</td>\n",
       "      <td>divorced</td>\n",
       "      <td>secondary</td>\n",
       "      <td>no</td>\n",
       "      <td>545</td>\n",
       "      <td>yes</td>\n",
       "      <td>no</td>\n",
       "      <td>unknown</td>\n",
       "      <td>6</td>\n",
       "      <td>may</td>\n",
       "      <td>1</td>\n",
       "      <td>-1</td>\n",
       "      <td>0</td>\n",
       "      <td>unknown</td>\n",
       "      <td>yes</td>\n",
       "    </tr>\n",
       "  </tbody>\n",
       "</table>\n",
       "</div>"
      ],
      "text/plain": [
       "   age       job   marital  education default  balance housing loan  contact  \\\n",
       "0   59  JobCat11   married  secondary      no     2343     yes   no  unknown   \n",
       "1   41   JobCat9   married  secondary      no     1270     yes   no  unknown   \n",
       "2   55   JobCat7   married  secondary      no     2476     yes   no  unknown   \n",
       "3   56   JobCat6   married   tertiary      no      830     yes  yes  unknown   \n",
       "4   60   JobCat2  divorced  secondary      no      545     yes   no  unknown   \n",
       "\n",
       "   day month  campaign  pdays  previous poutcome target  \n",
       "0    5   may         1     -1         0  unknown    yes  \n",
       "1    5   may         1     -1         0  unknown    yes  \n",
       "2    5   may         1     -1         0  unknown    yes  \n",
       "3    6   may         1     -1         0  unknown    yes  \n",
       "4    6   may         1     -1         0  unknown    yes  "
      ]
     },
     "execution_count": 3,
     "metadata": {},
     "output_type": "execute_result"
    }
   ],
   "source": [
    "# Machine Learning for DA, Assignment 2\n",
    "# Names: Jianyu He, Chenxi Zhang\n",
    "# Student number: D17124591, C16434996\n",
    "import pandas as pd\n",
    "import matplotlib.pyplot as plot\n",
    "import numpy as np\n",
    "\n",
    "from sklearn import preprocessing\n",
    "\n",
    "\n",
    "# Import the dataset\n",
    "df = pd.read_csv('./dataset/trainingset.csv', header=None)\n",
    "# Headers of the dataset\n",
    "df.columns = ['id', 'age', 'job', 'marital', 'education', 'default', 'balance', 'housing', 'loan', 'contact', 'day', 'month', 'campaign', 'pdays', 'previous', 'poutcome', 'target']\n",
    "\n",
    "# Dropping the id column because is unnecssary for building a classifier\n",
    "df = df.drop(columns=['id'])\n",
    "\n",
    "df.head()\n",
    "\n",
    "# # Take all the object dtypes (descriptive features) from the dataframe\n",
    "# cat_df = df.select_dtypes(include=['object']).copy()\n",
    "# # Drop out the target feature\n",
    "# # cat_df = cat_df.drop(columns=['target'])\n",
    "# # Use LabelEncoder to encode categorical columns to integers\n",
    "# le = preprocessing.LabelEncoder()\n",
    "# cat_df_transformed = cat_df.astype(str).apply(le.fit_transform)\n",
    "\n",
    "# # Show updated record\n",
    "# new_df = df.copy()\n",
    "# new_df.update(cat_df_transformed)\n",
    "# new_df\n",
    "\n"
   ]
  },
  {
   "cell_type": "code",
   "execution_count": 4,
   "metadata": {},
   "outputs": [
    {
     "data": {
      "text/plain": [
       "age           int64\n",
       "job          object\n",
       "marital      object\n",
       "education    object\n",
       "default      object\n",
       "balance       int64\n",
       "housing      object\n",
       "loan         object\n",
       "contact      object\n",
       "day           int64\n",
       "month        object\n",
       "campaign      int64\n",
       "pdays         int64\n",
       "previous      int64\n",
       "poutcome     object\n",
       "target       object\n",
       "dtype: object"
      ]
     },
     "execution_count": 4,
     "metadata": {},
     "output_type": "execute_result"
    }
   ],
   "source": [
    "# 1. Data Exploration\n",
    "\n",
    "# Check the datatypes of the dataframe, get all the categorical/binary features and plot a exploration histogram\n",
    "df.dtypes"
   ]
  },
  {
   "cell_type": "code",
   "execution_count": 5,
   "metadata": {},
   "outputs": [
    {
     "data": {
      "text/plain": [
       "age          24300\n",
       "job          24300\n",
       "marital      24300\n",
       "education    24300\n",
       "default      24300\n",
       "balance      24300\n",
       "housing      24300\n",
       "loan         24300\n",
       "contact      24300\n",
       "day          24300\n",
       "month        24300\n",
       "campaign     24300\n",
       "pdays        24300\n",
       "previous     24300\n",
       "poutcome     24300\n",
       "target       24300\n",
       "dtype: int64"
      ]
     },
     "execution_count": 5,
     "metadata": {},
     "output_type": "execute_result"
    }
   ],
   "source": [
    "# Count the data to check for missing values\n",
    "df.count()"
   ]
  },
  {
   "cell_type": "code",
   "execution_count": 8,
   "metadata": {},
   "outputs": [
    {
     "data": {
      "text/html": [
       "<div>\n",
       "<style scoped>\n",
       "    .dataframe tbody tr th:only-of-type {\n",
       "        vertical-align: middle;\n",
       "    }\n",
       "\n",
       "    .dataframe tbody tr th {\n",
       "        vertical-align: top;\n",
       "    }\n",
       "\n",
       "    .dataframe thead th {\n",
       "        text-align: right;\n",
       "    }\n",
       "</style>\n",
       "<table border=\"1\" class=\"dataframe\">\n",
       "  <thead>\n",
       "    <tr style=\"text-align: right;\">\n",
       "      <th></th>\n",
       "      <th>age</th>\n",
       "      <th>job</th>\n",
       "      <th>marital</th>\n",
       "      <th>education</th>\n",
       "      <th>default</th>\n",
       "      <th>balance</th>\n",
       "      <th>housing</th>\n",
       "      <th>loan</th>\n",
       "      <th>contact</th>\n",
       "      <th>day</th>\n",
       "      <th>month</th>\n",
       "      <th>campaign</th>\n",
       "      <th>pdays</th>\n",
       "      <th>previous</th>\n",
       "      <th>poutcome</th>\n",
       "      <th>target</th>\n",
       "    </tr>\n",
       "  </thead>\n",
       "  <tbody>\n",
       "    <tr>\n",
       "      <td>2812</td>\n",
       "      <td>44</td>\n",
       "      <td>JobCat9</td>\n",
       "      <td>single</td>\n",
       "      <td>secondary</td>\n",
       "      <td>no</td>\n",
       "      <td>29</td>\n",
       "      <td>yes</td>\n",
       "      <td>no</td>\n",
       "      <td>unknown</td>\n",
       "      <td>5</td>\n",
       "      <td>may</td>\n",
       "      <td>1</td>\n",
       "      <td>-1</td>\n",
       "      <td>0</td>\n",
       "      <td>unknown</td>\n",
       "      <td>no</td>\n",
       "    </tr>\n",
       "    <tr>\n",
       "      <td>2813</td>\n",
       "      <td>31</td>\n",
       "      <td>JobCat4</td>\n",
       "      <td>married</td>\n",
       "      <td>secondary</td>\n",
       "      <td>no</td>\n",
       "      <td>2</td>\n",
       "      <td>yes</td>\n",
       "      <td>yes</td>\n",
       "      <td>unknown</td>\n",
       "      <td>5</td>\n",
       "      <td>may</td>\n",
       "      <td>1</td>\n",
       "      <td>-1</td>\n",
       "      <td>0</td>\n",
       "      <td>unknown</td>\n",
       "      <td>no</td>\n",
       "    </tr>\n",
       "    <tr>\n",
       "      <td>2814</td>\n",
       "      <td>42</td>\n",
       "      <td>JobCat4</td>\n",
       "      <td>divorced</td>\n",
       "      <td>tertiary</td>\n",
       "      <td>yes</td>\n",
       "      <td>2</td>\n",
       "      <td>yes</td>\n",
       "      <td>no</td>\n",
       "      <td>unknown</td>\n",
       "      <td>5</td>\n",
       "      <td>may</td>\n",
       "      <td>1</td>\n",
       "      <td>-1</td>\n",
       "      <td>0</td>\n",
       "      <td>unknown</td>\n",
       "      <td>no</td>\n",
       "    </tr>\n",
       "    <tr>\n",
       "      <td>2815</td>\n",
       "      <td>58</td>\n",
       "      <td>JobCat2</td>\n",
       "      <td>married</td>\n",
       "      <td>primary</td>\n",
       "      <td>no</td>\n",
       "      <td>121</td>\n",
       "      <td>yes</td>\n",
       "      <td>no</td>\n",
       "      <td>unknown</td>\n",
       "      <td>5</td>\n",
       "      <td>may</td>\n",
       "      <td>1</td>\n",
       "      <td>-1</td>\n",
       "      <td>0</td>\n",
       "      <td>unknown</td>\n",
       "      <td>no</td>\n",
       "    </tr>\n",
       "    <tr>\n",
       "      <td>2816</td>\n",
       "      <td>43</td>\n",
       "      <td>JobCat9</td>\n",
       "      <td>single</td>\n",
       "      <td>secondary</td>\n",
       "      <td>no</td>\n",
       "      <td>593</td>\n",
       "      <td>yes</td>\n",
       "      <td>no</td>\n",
       "      <td>unknown</td>\n",
       "      <td>5</td>\n",
       "      <td>may</td>\n",
       "      <td>1</td>\n",
       "      <td>-1</td>\n",
       "      <td>0</td>\n",
       "      <td>unknown</td>\n",
       "      <td>no</td>\n",
       "    </tr>\n",
       "    <tr>\n",
       "      <td>...</td>\n",
       "      <td>...</td>\n",
       "      <td>...</td>\n",
       "      <td>...</td>\n",
       "      <td>...</td>\n",
       "      <td>...</td>\n",
       "      <td>...</td>\n",
       "      <td>...</td>\n",
       "      <td>...</td>\n",
       "      <td>...</td>\n",
       "      <td>...</td>\n",
       "      <td>...</td>\n",
       "      <td>...</td>\n",
       "      <td>...</td>\n",
       "      <td>...</td>\n",
       "      <td>...</td>\n",
       "      <td>...</td>\n",
       "    </tr>\n",
       "    <tr>\n",
       "      <td>24295</td>\n",
       "      <td>60</td>\n",
       "      <td>JobCat7</td>\n",
       "      <td>married</td>\n",
       "      <td>secondary</td>\n",
       "      <td>no</td>\n",
       "      <td>4428</td>\n",
       "      <td>no</td>\n",
       "      <td>no</td>\n",
       "      <td>cellular</td>\n",
       "      <td>9</td>\n",
       "      <td>nov</td>\n",
       "      <td>1</td>\n",
       "      <td>96</td>\n",
       "      <td>6</td>\n",
       "      <td>failure</td>\n",
       "      <td>no</td>\n",
       "    </tr>\n",
       "    <tr>\n",
       "      <td>24296</td>\n",
       "      <td>29</td>\n",
       "      <td>JobCat6</td>\n",
       "      <td>married</td>\n",
       "      <td>tertiary</td>\n",
       "      <td>no</td>\n",
       "      <td>720</td>\n",
       "      <td>yes</td>\n",
       "      <td>no</td>\n",
       "      <td>cellular</td>\n",
       "      <td>9</td>\n",
       "      <td>nov</td>\n",
       "      <td>3</td>\n",
       "      <td>-1</td>\n",
       "      <td>0</td>\n",
       "      <td>unknown</td>\n",
       "      <td>no</td>\n",
       "    </tr>\n",
       "    <tr>\n",
       "      <td>24297</td>\n",
       "      <td>71</td>\n",
       "      <td>JobCat2</td>\n",
       "      <td>married</td>\n",
       "      <td>secondary</td>\n",
       "      <td>no</td>\n",
       "      <td>2064</td>\n",
       "      <td>no</td>\n",
       "      <td>no</td>\n",
       "      <td>cellular</td>\n",
       "      <td>9</td>\n",
       "      <td>nov</td>\n",
       "      <td>2</td>\n",
       "      <td>92</td>\n",
       "      <td>3</td>\n",
       "      <td>failure</td>\n",
       "      <td>no</td>\n",
       "    </tr>\n",
       "    <tr>\n",
       "      <td>24298</td>\n",
       "      <td>33</td>\n",
       "      <td>JobCat7</td>\n",
       "      <td>married</td>\n",
       "      <td>tertiary</td>\n",
       "      <td>no</td>\n",
       "      <td>4655</td>\n",
       "      <td>no</td>\n",
       "      <td>no</td>\n",
       "      <td>cellular</td>\n",
       "      <td>9</td>\n",
       "      <td>nov</td>\n",
       "      <td>2</td>\n",
       "      <td>-1</td>\n",
       "      <td>0</td>\n",
       "      <td>unknown</td>\n",
       "      <td>no</td>\n",
       "    </tr>\n",
       "    <tr>\n",
       "      <td>24299</td>\n",
       "      <td>31</td>\n",
       "      <td>JobCat9</td>\n",
       "      <td>married</td>\n",
       "      <td>tertiary</td>\n",
       "      <td>no</td>\n",
       "      <td>2976</td>\n",
       "      <td>yes</td>\n",
       "      <td>no</td>\n",
       "      <td>cellular</td>\n",
       "      <td>9</td>\n",
       "      <td>nov</td>\n",
       "      <td>2</td>\n",
       "      <td>95</td>\n",
       "      <td>12</td>\n",
       "      <td>other</td>\n",
       "      <td>no</td>\n",
       "    </tr>\n",
       "  </tbody>\n",
       "</table>\n",
       "<p>21488 rows × 16 columns</p>\n",
       "</div>"
      ],
      "text/plain": [
       "       age      job   marital  education default  balance housing loan  \\\n",
       "2812    44  JobCat9    single  secondary      no       29     yes   no   \n",
       "2813    31  JobCat4   married  secondary      no        2     yes  yes   \n",
       "2814    42  JobCat4  divorced   tertiary     yes        2     yes   no   \n",
       "2815    58  JobCat2   married    primary      no      121     yes   no   \n",
       "2816    43  JobCat9    single  secondary      no      593     yes   no   \n",
       "...    ...      ...       ...        ...     ...      ...     ...  ...   \n",
       "24295   60  JobCat7   married  secondary      no     4428      no   no   \n",
       "24296   29  JobCat6   married   tertiary      no      720     yes   no   \n",
       "24297   71  JobCat2   married  secondary      no     2064      no   no   \n",
       "24298   33  JobCat7   married   tertiary      no     4655      no   no   \n",
       "24299   31  JobCat9   married   tertiary      no     2976     yes   no   \n",
       "\n",
       "        contact  day month  campaign  pdays  previous poutcome target  \n",
       "2812    unknown    5   may         1     -1         0  unknown     no  \n",
       "2813    unknown    5   may         1     -1         0  unknown     no  \n",
       "2814    unknown    5   may         1     -1         0  unknown     no  \n",
       "2815    unknown    5   may         1     -1         0  unknown     no  \n",
       "2816    unknown    5   may         1     -1         0  unknown     no  \n",
       "...         ...  ...   ...       ...    ...       ...      ...    ...  \n",
       "24295  cellular    9   nov         1     96         6  failure     no  \n",
       "24296  cellular    9   nov         3     -1         0  unknown     no  \n",
       "24297  cellular    9   nov         2     92         3  failure     no  \n",
       "24298  cellular    9   nov         2     -1         0  unknown     no  \n",
       "24299  cellular    9   nov         2     95        12    other     no  \n",
       "\n",
       "[21488 rows x 16 columns]"
      ]
     },
     "execution_count": 8,
     "metadata": {},
     "output_type": "execute_result"
    }
   ],
   "source": [
    "condition = (df['target'] == 'yes')\n",
    "tyes = df[condition]\n",
    "tno = df[df['target'] == 'no']"
   ]
  },
  {
   "cell_type": "code",
   "execution_count": 10,
   "metadata": {},
   "outputs": [
    {
     "data": {
      "text/plain": [
       "Text(0, 0.5, 'Frequency')"
      ]
     },
     "execution_count": 10,
     "metadata": {},
     "output_type": "execute_result"
    },
    {
     "data": {
      "image/png": "[encoded data removed]",
      "text/plain": [
       "<Figure size 288x288 with 1 Axes>"
      ]
     },
     "metadata": {
      "needs_background": "light"
     },
     "output_type": "display_data"
    }
   ],
   "source": [
    "# Frquency of the target feature plotted in histogram\n",
    "plot = df['target'].value_counts(sort=True, ascending=False).plot(kind='bar', figsize=(4,4), title='Result of desired target')\n",
    "plot.set_xlabel('Target')\n",
    "plot.set_ylabel('Frequency')"
   ]
  },
  {
   "cell_type": "code",
   "execution_count": 51,
   "metadata": {
    "scrolled": true
   },
   "outputs": [
    {
     "data": {
      "image/png": "[encoded data removed]",
      "text/plain": [
       "<Figure size 432x288 with 1 Axes>"
      ]
     },
     "metadata": {
      "needs_background": "light"
     },
     "output_type": "display_data"
    }
   ],
   "source": [
    "# Frquency of job\n",
    "import matplotlib.pyplot as plt\n",
    "x = np.arange(len(tno['job'].unique()))\n",
    "bar_width = 0.35\n",
    "y = tyes['job'].value_counts(sort=True, ascending=False)\n",
    "y1 = tno['job'].value_counts(sort=True, ascending=False)\n",
    "plt.bar(x, y, bar_width, align=\"center\", color=\"g\", label=\"Yes\", alpha=0.5)\n",
    "plt.bar(x+bar_width, y1, bar_width, color=\"r\", align=\"center\", label=\"No\", alpha=0.5)\n",
    "\n",
    "plt.xlabel('Job Type')\n",
    "plt.ylabel('Frequency')\n",
    "plt.xticks(x+bar_width/2, tno['job'].unique(),rotation=90)\n",
    "plt.legend()\n",
    "plt.show()"
   ]
  },
  {
   "cell_type": "code",
   "execution_count": 39,
   "metadata": {},
   "outputs": [
    {
     "data": {
      "image/png": "[encoded data removed]",
      "text/plain": [
       "<Figure size 432x288 with 1 Axes>"
      ]
     },
     "metadata": {
      "needs_background": "light"
     },
     "output_type": "display_data"
    }
   ],
   "source": [
    "import matplotlib.pyplot as plt\n",
    "import matplotlib as mpl\n",
    "import numpy as np\n",
    "\n",
    "x = np.arange(5)\n",
    "y = [6, 10, 4, 5, 1]\n",
    "y1 = [2, 6, 3, 8, 5]\n",
    "\n",
    "bar_width = 0.35\n",
    "tick_label = [\"A\", \"B\", \"C\", \"D\", \"E\"]\n",
    "\n",
    "plt.bar(x, y, bar_width, align=\"center\", color=\"c\", label=\"班级A\", alpha=0.5)\n",
    "plt.bar(x+bar_width, y1, bar_width, color=\"b\", align=\"center\", label=\"班级\", alpha=0.5)\n",
    "\n",
    "plt.xlabel(\"测试难度\")\n",
    "plt.ylabel(\"试卷份数\")\n",
    "\n",
    "\n",
    "\n",
    "plt.legend()\n",
    "\n",
    "plt.show()"
   ]
  },
  {
   "cell_type": "code",
   "execution_count": 121,
   "metadata": {},
   "outputs": [
    {
     "data": {
      "text/plain": [
       "Text(0, 0.5, 'Frequency')"
      ]
     },
     "execution_count": 121,
     "metadata": {},
     "output_type": "execute_result"
    },
    {
     "data": {
      "image/png": "[encoded data removed]",
      "text/plain": [
       "<Figure size 288x288 with 1 Axes>"
      ]
     },
     "metadata": {
      "needs_background": "light"
     },
     "output_type": "display_data"
    }
   ],
   "source": [
    "# Marital status\n",
    "plot = df['marital'].value_counts(sort=True, ascending=False).plot(kind='bar', figsize=(4,4), title='Marital status',)\n",
    "plot.set_xlabel('Marital type')\n",
    "plot.set_ylabel('Frequency')"
   ]
  },
  {
   "cell_type": "code",
   "execution_count": 120,
   "metadata": {},
   "outputs": [
    {
     "data": {
      "text/plain": [
       "Text(0, 0.5, 'Frequency')"
      ]
     },
     "execution_count": 120,
     "metadata": {},
     "output_type": "execute_result"
    },
    {
     "data": {
      "image/png": "[encoded data removed]",
      "text/plain": [
       "<Figure size 288x288 with 1 Axes>"
      ]
     },
     "metadata": {
      "needs_background": "light"
     },
     "output_type": "display_data"
    }
   ],
   "source": [
    "# Education categories\n",
    "plot = df['education'].value_counts(sort=True, ascending=False).plot(kind='bar', figsize=(4,4), title='Educations',)\n",
    "plot.set_xlabel('Edu. Type')\n",
    "plot.set_ylabel('Frequency')"
   ]
  },
  {
   "cell_type": "code",
   "execution_count": 119,
   "metadata": {},
   "outputs": [
    {
     "data": {
      "text/plain": [
       "Text(0, 0.5, 'Frequency')"
      ]
     },
     "execution_count": 119,
     "metadata": {},
     "output_type": "execute_result"
    },
    {
     "data": {
      "image/png": "[encoded data removed]",
      "text/plain": [
       "<Figure size 288x288 with 1 Axes>"
      ]
     },
     "metadata": {
      "needs_background": "light"
     },
     "output_type": "display_data"
    }
   ],
   "source": [
    "# Default\n",
    "plot = df['default'].value_counts(sort=True, ascending=False).plot(kind='bar', figsize=(4,4), title='default no/yes',)\n",
    "plot.set_xlabel('default')\n",
    "plot.set_ylabel('Frequency')"
   ]
  },
  {
   "cell_type": "code",
   "execution_count": 114,
   "metadata": {},
   "outputs": [
    {
     "data": {
      "text/plain": [
       "count    24300.000000\n",
       "mean      1347.700041\n",
       "std       2945.196493\n",
       "min      -8019.000000\n",
       "25%         74.000000\n",
       "50%        451.000000\n",
       "75%       1418.000000\n",
       "max      81204.000000\n",
       "Name: balance, dtype: float64"
      ]
     },
     "execution_count": 114,
     "metadata": {},
     "output_type": "execute_result"
    }
   ],
   "source": [
    "# Describe the balance\n",
    "df['balance'].describe()"
   ]
  },
  {
   "cell_type": "code",
   "execution_count": 118,
   "metadata": {},
   "outputs": [
    {
     "data": {
      "text/plain": [
       "Text(0, 0.5, 'Frequency')"
      ]
     },
     "execution_count": 118,
     "metadata": {},
     "output_type": "execute_result"
    },
    {
     "data": {
      "image/png": "[encoded data removed]",
      "text/plain": [
       "<Figure size 288x288 with 1 Axes>"
      ]
     },
     "metadata": {
      "needs_background": "light"
     },
     "output_type": "display_data"
    }
   ],
   "source": [
    "# Housing Loan\n",
    "plot = df['housing'].value_counts(sort=True, ascending=False).plot(kind='bar', figsize=(4,4), title='Housing loans y/n',)\n",
    "plot.set_xlabel('Housing loans')\n",
    "plot.set_ylabel('Frequency')"
   ]
  },
  {
   "cell_type": "code",
   "execution_count": 124,
   "metadata": {},
   "outputs": [
    {
     "data": {
      "text/plain": [
       "Text(0, 0.5, 'Frequency')"
      ]
     },
     "execution_count": 124,
     "metadata": {},
     "output_type": "execute_result"
    },
    {
     "data": {
      "image/png": "[encoded data removed]",
      "text/plain": [
       "<Figure size 288x288 with 1 Axes>"
      ]
     },
     "metadata": {
      "needs_background": "light"
     },
     "output_type": "display_data"
    }
   ],
   "source": [
    "# Personal loan\n",
    "plot = df['loan'].value_counts(sort=True, ascending=False).plot(kind='bar', figsize=(4,4), title='Personal loans y/n',)\n",
    "plot.set_xlabel('Personal loans')\n",
    "plot.set_ylabel('Frequency')"
   ]
  },
  {
   "cell_type": "code",
   "execution_count": 107,
   "metadata": {},
   "outputs": [
    {
     "data": {
      "text/plain": [
       "Text(0, 0.5, 'Frequency')"
      ]
     },
     "execution_count": 107,
     "metadata": {},
     "output_type": "execute_result"
    },
    {
     "data": {
      "image/png": "[encoded data removed]",
      "text/plain": [
       "<Figure size 216x288 with 1 Axes>"
      ]
     },
     "metadata": {
      "needs_background": "light"
     },
     "output_type": "display_data"
    }
   ],
   "source": [
    "# Freq. of contact\n",
    "plot = df['contact'].value_counts(sort=True, ascending=False).plot(kind='bar', figsize=(3,4), title='How is it contacted',)\n",
    "plot.set_xlabel('Contact Type')\n",
    "plot.set_ylabel('Frequency')"
   ]
  },
  {
   "cell_type": "code",
   "execution_count": 129,
   "metadata": {},
   "outputs": [
    {
     "data": {
      "text/plain": [
       "Text(0, 0.5, 'Frequency')"
      ]
     },
     "execution_count": 129,
     "metadata": {},
     "output_type": "execute_result"
    },
    {
     "data": {
      "image/png": "[encoded data removed]",
      "text/plain": [
       "<Figure size 360x288 with 1 Axes>"
      ]
     },
     "metadata": {
      "needs_background": "light"
     },
     "output_type": "display_data"
    }
   ],
   "source": [
    "# Freq. of poutcome\n",
    "plot = df['poutcome'].value_counts(sort=True, ascending=False).plot(kind='bar', figsize=(5,4), title='poutcome categories',)\n",
    "plot.set_xlabel('poutcome')\n",
    "plot.set_ylabel('Frequency')"
   ]
  },
  {
   "cell_type": "code",
   "execution_count": 51,
   "metadata": {},
   "outputs": [
    {
     "data": {
      "text/plain": [
       "unknown    19756\n",
       "failure     2726\n",
       "other        989\n",
       "success      829\n",
       "Name: poutcome, dtype: int64"
      ]
     },
     "execution_count": 51,
     "metadata": {},
     "output_type": "execute_result"
    }
   ],
   "source": [
    "# Value counts for poutcome\n",
    "df['poutcome'].value_counts()"
   ]
  },
  {
   "cell_type": "code",
   "execution_count": 194,
   "metadata": {
    "scrolled": true
   },
   "outputs": [
    {
     "data": {
      "image/png": "[encoded data removed]",
      "text/plain": [
       "<Figure size 1008x1008 with 2 Axes>"
      ]
     },
     "metadata": {
      "needs_background": "light"
     },
     "output_type": "display_data"
    }
   ],
   "source": [
    "correlations = df.corr()\n",
    "# plot correlation matrix\n",
    "fig = plt.figure(figsize=(14,14))\n",
    "ax = fig.add_subplot(111)\n",
    "cax = ax.matshow(correlations, vmin=-1, vmax=1)\n",
    "fig.colorbar(cax)\n",
    "ticks = np.arange(0,15,1)\n",
    "ax.set_xticks(ticks)\n",
    "ax.set_yticks(ticks)\n",
    "ax.set_xticklabels(df.columns)\n",
    "ax.set_yticklabels(df.columns)\n",
    "plt.show()"
   ]
  },
  {
   "cell_type": "code",
   "execution_count": null,
   "metadata": {},
   "outputs": [],
   "source": []
  }
 ],
 "metadata": {
  "kernelspec": {
   "display_name": "Python 3",
   "language": "python",
   "name": "python3"
  },
  "language_info": {
   "codemirror_mode": {
    "name": "ipython",
    "version": 3
   },
   "file_extension": ".py",
   "mimetype": "text/x-python",
   "name": "python",
   "nbconvert_exporter": "python",
   "pygments_lexer": "ipython3",
   "version": "3.7.3"
  }
 },
 "nbformat": 4,
 "nbformat_minor": 2
}
